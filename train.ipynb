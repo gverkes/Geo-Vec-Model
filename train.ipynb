{
 "cells": [
  {
   "cell_type": "code",
   "execution_count": 1,
   "metadata": {},
   "outputs": [
    {
     "name": "stderr",
     "output_type": "stream",
     "text": [
      "/home/govert/anaconda3/envs/pytorch-par2vec/lib/python3.6/importlib/_bootstrap.py:219: RuntimeWarning: compiletime version 3.5 of module 'tensorflow.python.framework.fast_tensor_util' does not match runtime version 3.6\n",
      "  return f(*args, **kwds)\n"
     ]
    }
   ],
   "source": [
    "from graphvec_nons import GraphVec\n",
    "import numpy as np"
   ]
  },
  {
   "cell_type": "markdown",
   "metadata": {},
   "source": [
    "#### Corpus"
   ]
  },
  {
   "cell_type": "code",
   "execution_count": 23,
   "metadata": {},
   "outputs": [
    {
     "name": "stdout",
     "output_type": "stream",
     "text": [
      "cantaloupe cs cmu edu alt crypt comp alt comp comp answers answers alt crypt comp alt comp comp answers answers cantaloupe cs cmu edu crabapple cs cmu edu fs ece cmu edu cmu edu cis edu edu edu caen ctr columbia edu indiana edu indiana edu from cs indiana edu frequently asked content faq faq id c dru indiana edu followup alt indiana edu indiana edu cs indiana edu host indiana edu computer indiana date gmt approved answers edu expires fri apr gmt archive faq about is a and information about a for encryption faq and be by cs indiana edu be a a basis follow discussion is group alt i have in an attempt comply for hypertext faq formatting allow easy document disclaimer in faq be considered advice anything if advice a and answers is is a enhanced cryptographic and des allows electronic have authentication i e can be confirmed and i e can except intended by cl edu code is in domain except for are a called from data inc how can i get contains cryptographic is considered and is export from distribution are citizens canada following is from file do export cryptographic code in distribution canada is a from author and a condition is in domain and a for is included distribution before best get is ask a friend for a copy do carry humans friend is available anonymous ftp citizens and in from com cd and file for info i contains and does contain compiled binaries as as crypt has home cl edu is anonymous ftp for in and canada are citizens find how access ftp cd crypt and file getting access for convenience binaries for architectures are available here in addition full has already been dos and flavors aix etc include a and a by author are expected and help is invited how easy and clean effective interface is depend and guide included distribution discusses including berkeley elm and code is also included in elisp allow easy inside gnu emacs if a interface for create an improvement in distribution believe is convenient and be feel free alt is is a crypto is asymmetric are different encrypt and decrypt because cannot be derived from encryption and decryption anyone can encrypt a but hold decrypt is des is des above for for authentication fingerprint is a fingerprint is encrypted can decrypt and confirm have come from for and adleman invented find about ftp com and in faq in crypt is des des is data encryption a crypto des encrypt and decrypt however des is faster both des and generates a and encrypts des encrypts and includes in allowing des des is considered because is and a considered by however be against an a corporation government agency is future cipher by encryption des is and how does is enhanced a for allowing easy encrypted electronic is described in documents have been approved and is a complete implementation because certificates for authenticating does handle at addition is about distributing and authenticating for a be able for be able confirm came from her her is important information be accurate if a bad guy convinces her his is in fact he can allows for a central distributed finger and a flat file all are described in guide is distribution do all begin a identifier describing characteristics about first bunch characters in be as does are but are class generated are etc is a fingerprint is a digest algorithm by data inc a bit fingerprint cryptographically hash is cryptographically because is in a amount computation a different fingerprint instead entire be for authentication is for for example is an input arbitrary bits data as a interpreter cookie generator is described in entirety including an implementation in c in is is another cryptographic called good has been around and differently is compatible in any does also differences between and has features for a direct connection conforms and has a greater attempt be compatible anything in fact is compatible a from data inc comes a allows implementation is firm holding algorithm claims is a infringement in canada in acknowledgement author in documentation in fact if in and are a federal agency actually computer because forbid from is contraband both and are export and cannot be and canada however already exists ftp in europe and documentation is anyone interested in issues above facts both and export are controversial be and interpret documents differently discussions inevitably heat and belong in computing disclaimer about for enhanced but a cipher invented by is in an attempt avoid by author as distribution halted contrary beliefs including claimed broad enough cover any cipher in difficulty factoring claim is accepted by any but challenged for is anymore is compatible is for internet extensions and is described in can find about in comp how interact is entirely clear having a application in as i hope emerge draft internet documents exist i have defeat check companion attacks discusses attacks and area is distribution\n"
     ]
    }
   ],
   "source": [
    "# vocab_size = 500\n",
    "# tokenized = np.random.randint(0, vocab_size, (10, 2000))\n",
    "\n",
    "id2word = np.load('./data/20_newsgroup/20newsgroup_id2word.npy').item(0)\n",
    "tokenized = np.load('./data/20_newsgroup/20newsgroup_tokenized.npy')\n",
    "print(' '.join([id2word[word] for word in tokenized[0] if word is not 0]))\n",
    "\n",
    "vocab_size = len(np.load('./data/20_newsgroup/20newsgroup_word2id.npy').item(0))\n",
    "\n",
    "corpus = {'tokenized': tokenized}"
   ]
  },
  {
   "cell_type": "code",
   "execution_count": 3,
   "metadata": {
    "scrolled": false
   },
   "outputs": [
    {
     "name": "stderr",
     "output_type": "stream",
     "text": [
      "/home/govert/anaconda3/envs/pytorch-par2vec/lib/python3.6/site-packages/tensorflow/python/ops/gradients_impl.py:96: UserWarning: Converting sparse IndexedSlices to a dense Tensor of unknown shape. This may consume a large amount of memory.\n",
      "  \"Converting sparse IndexedSlices to a dense Tensor of unknown shape. \"\n"
     ]
    }
   ],
   "source": [
    "# Initiate model\n",
    "# tf.reset_default_graph()\n",
    "geo_vec_model = GraphVec(corpus=corpus, vocab_size=vocab_size, h_layers=[32, 16, 16, 16])"
   ]
  },
  {
   "cell_type": "code",
   "execution_count": 4,
   "metadata": {},
   "outputs": [
    {
     "name": "stdout",
     "output_type": "stream",
     "text": [
      "TRAINING\n",
      " iter: 100/10000 \t graph loss: 32.708527 \t aux loss: 540.273 \t avg_acc: 0.371\n",
      " iter: 200/10000 \t graph loss: 37.792198 \t aux loss: 496.563 \t avg_acc: 0.593\n",
      " iter: 300/10000 \t graph loss: 90.676956 \t aux loss: 547.143 \t avg_acc: 0.664\n",
      " iter: 400/10000 \t graph loss: 33.691498 \t aux loss: 509.672 \t avg_acc: 0.698\n",
      " iter: 500/10000 \t graph loss: 217.286530 \t aux loss: 500.850 \t avg_acc: 0.717\n",
      " iter: 600/10000 \t graph loss: 39.492310 \t aux loss: 495.033 \t avg_acc: 0.731\n",
      " iter: 700/10000 \t graph loss: 174.414917 \t aux loss: 502.157 \t avg_acc: 0.739\n",
      " iter: 800/10000 \t graph loss: 130.878876 \t aux loss: 526.281 \t avg_acc: 0.746\n",
      " iter: 900/10000 \t graph loss: 54.090210 \t aux loss: 538.143 \t avg_acc: 0.750\n",
      " iter: 1000/10000 \t graph loss: 30.337214 \t aux loss: 528.887 \t avg_acc: 0.754\n",
      " iter: 1100/10000 \t graph loss: 29.857489 \t aux loss: 493.624 \t avg_acc: 0.757\n",
      " iter: 1200/10000 \t graph loss: 110.113113 \t aux loss: 501.301 \t avg_acc: 0.761\n",
      " iter: 1300/10000 \t graph loss: 34.417320 \t aux loss: 521.133 \t avg_acc: 0.764\n",
      " iter: 1400/10000 \t graph loss: 119.808517 \t aux loss: 465.177 \t avg_acc: 0.766\n",
      " iter: 1500/10000 \t graph loss: 18.839352 \t aux loss: 509.589 \t avg_acc: 0.768\n",
      " iter: 1600/10000 \t graph loss: 42.129620 \t aux loss: 509.960 \t avg_acc: 0.769\n",
      " iter: 1700/10000 \t graph loss: 72.935532 \t aux loss: 507.322 \t avg_acc: 0.771\n",
      " iter: 1800/10000 \t graph loss: 34.185703 \t aux loss: 523.503 \t avg_acc: 0.772\n",
      " iter: 1900/10000 \t graph loss: 21.155594 \t aux loss: 502.815 \t avg_acc: 0.773\n",
      " iter: 2000/10000 \t graph loss: 29.730597 \t aux loss: 470.117 \t avg_acc: 0.774\n",
      " iter: 2100/10000 \t graph loss: 53.536255 \t aux loss: 509.108 \t avg_acc: 0.775\n",
      " iter: 2200/10000 \t graph loss: 38.629158 \t aux loss: 500.363 \t avg_acc: 0.775\n",
      " iter: 2300/10000 \t graph loss: 83.984383 \t aux loss: 548.756 \t avg_acc: 0.776\n",
      " iter: 2400/10000 \t graph loss: 64.214195 \t aux loss: 544.605 \t avg_acc: 0.776\n",
      " iter: 2500/10000 \t graph loss: -4672.707031 \t aux loss: 503.318 \t avg_acc: 0.777\n",
      " iter: 2600/10000 \t graph loss: 19.103359 \t aux loss: 464.183 \t avg_acc: 0.777\n",
      " iter: 2700/10000 \t graph loss: 43.634815 \t aux loss: 522.338 \t avg_acc: 0.778\n",
      " iter: 2800/10000 \t graph loss: 50.068314 \t aux loss: 482.305 \t avg_acc: 0.779\n",
      " iter: 2900/10000 \t graph loss: 30.814020 \t aux loss: 515.343 \t avg_acc: 0.780\n",
      " iter: 3000/10000 \t graph loss: 5.861515 \t aux loss: 498.874 \t avg_acc: 0.780\n"
     ]
    },
    {
     "name": "stderr",
     "output_type": "stream",
     "text": [
      "ERROR:root:Internal Python error in the inspect module.\n",
      "Below is the traceback from this internal error.\n",
      "\n"
     ]
    },
    {
     "name": "stdout",
     "output_type": "stream",
     "text": [
      "Traceback (most recent call last):\n",
      "  File \"/home/govert/anaconda3/envs/pytorch-par2vec/lib/python3.6/site-packages/IPython/core/interactiveshell.py\", line 2862, in run_code\n",
      "    exec(code_obj, self.user_global_ns, self.user_ns)\n",
      "  File \"<ipython-input-4-4486af5b6eb7>\", line 3, in <module>\n",
      "    geo_vec_model.train('./models', 10000, 100, save_name='test')\n",
      "  File \"/home/govert/X/Geo-Vec-Model/graphvec_nons.py\", line 246, in train\n",
      "    feed_dict=feed_dict)\n",
      "  File \"/home/govert/anaconda3/envs/pytorch-par2vec/lib/python3.6/site-packages/tensorflow/python/client/session.py\", line 889, in run\n",
      "    run_metadata_ptr)\n",
      "  File \"/home/govert/anaconda3/envs/pytorch-par2vec/lib/python3.6/site-packages/tensorflow/python/client/session.py\", line 1120, in _run\n",
      "    feed_dict_tensor, options, run_metadata)\n",
      "  File \"/home/govert/anaconda3/envs/pytorch-par2vec/lib/python3.6/site-packages/tensorflow/python/client/session.py\", line 1317, in _do_run\n",
      "    options, run_metadata)\n",
      "  File \"/home/govert/anaconda3/envs/pytorch-par2vec/lib/python3.6/site-packages/tensorflow/python/client/session.py\", line 1323, in _do_call\n",
      "    return fn(*args)\n",
      "  File \"/home/govert/anaconda3/envs/pytorch-par2vec/lib/python3.6/site-packages/tensorflow/python/client/session.py\", line 1302, in _run_fn\n",
      "    status, run_metadata)\n",
      "KeyboardInterrupt\n",
      "\n",
      "During handling of the above exception, another exception occurred:\n",
      "\n",
      "Traceback (most recent call last):\n",
      "  File \"/home/govert/anaconda3/envs/pytorch-par2vec/lib/python3.6/site-packages/IPython/core/interactiveshell.py\", line 1806, in showtraceback\n",
      "    stb = value._render_traceback_()\n",
      "AttributeError: 'KeyboardInterrupt' object has no attribute '_render_traceback_'\n",
      "\n",
      "During handling of the above exception, another exception occurred:\n",
      "\n",
      "Traceback (most recent call last):\n",
      "  File \"/home/govert/anaconda3/envs/pytorch-par2vec/lib/python3.6/site-packages/IPython/core/ultratb.py\", line 1090, in get_records\n",
      "    return _fixed_getinnerframes(etb, number_of_lines_of_context, tb_offset)\n",
      "  File \"/home/govert/anaconda3/envs/pytorch-par2vec/lib/python3.6/site-packages/IPython/core/ultratb.py\", line 311, in wrapped\n",
      "    return f(*args, **kwargs)\n",
      "  File \"/home/govert/anaconda3/envs/pytorch-par2vec/lib/python3.6/site-packages/IPython/core/ultratb.py\", line 345, in _fixed_getinnerframes\n",
      "    records = fix_frame_records_filenames(inspect.getinnerframes(etb, context))\n",
      "  File \"/home/govert/anaconda3/envs/pytorch-par2vec/lib/python3.6/inspect.py\", line 1480, in getinnerframes\n",
      "    frameinfo = (tb.tb_frame,) + getframeinfo(tb, context)\n",
      "  File \"/home/govert/anaconda3/envs/pytorch-par2vec/lib/python3.6/inspect.py\", line 1438, in getframeinfo\n",
      "    filename = getsourcefile(frame) or getfile(frame)\n",
      "  File \"/home/govert/anaconda3/envs/pytorch-par2vec/lib/python3.6/inspect.py\", line 693, in getsourcefile\n",
      "    if getattr(getmodule(object, filename), '__loader__', None) is not None:\n",
      "  File \"/home/govert/anaconda3/envs/pytorch-par2vec/lib/python3.6/inspect.py\", line 739, in getmodule\n",
      "    os.path.realpath(f)] = module.__name__\n",
      "  File \"/home/govert/anaconda3/envs/pytorch-par2vec/lib/python3.6/posixpath.py\", line 386, in realpath\n",
      "    path, ok = _joinrealpath(filename[:0], filename, {})\n",
      "  File \"/home/govert/anaconda3/envs/pytorch-par2vec/lib/python3.6/posixpath.py\", line 420, in _joinrealpath\n",
      "    if not islink(newpath):\n",
      "  File \"/home/govert/anaconda3/envs/pytorch-par2vec/lib/python3.6/posixpath.py\", line 169, in islink\n",
      "    st = os.lstat(path)\n",
      "KeyboardInterrupt\n"
     ]
    },
    {
     "ename": "KeyboardInterrupt",
     "evalue": "",
     "output_type": "error",
     "traceback": [
      "\u001b[0;31m---------------------------------------------------------------------------\u001b[0m"
     ]
    }
   ],
   "source": [
    "# Start training\n",
    "print(\"TRAINING\")\n",
    "geo_vec_model.train('./models', 10000, 100, save_name='test')"
   ]
  },
  {
   "cell_type": "code",
   "execution_count": null,
   "metadata": {
    "collapsed": true
   },
   "outputs": [],
   "source": []
  },
  {
   "cell_type": "code",
   "execution_count": null,
   "metadata": {
    "collapsed": true,
    "scrolled": true
   },
   "outputs": [],
   "source": []
  }
 ],
 "metadata": {
  "kernelspec": {
   "display_name": "Python [conda env:pytorch-par2vec]",
   "language": "python",
   "name": "conda-env-pytorch-par2vec-py"
  },
  "language_info": {
   "codemirror_mode": {
    "name": "ipython",
    "version": 3
   },
   "file_extension": ".py",
   "mimetype": "text/x-python",
   "name": "python",
   "nbconvert_exporter": "python",
   "pygments_lexer": "ipython3",
   "version": "3.6.3"
  }
 },
 "nbformat": 4,
 "nbformat_minor": 2
}
