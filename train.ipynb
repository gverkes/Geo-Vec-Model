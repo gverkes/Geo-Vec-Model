{
 "cells": [
  {
   "cell_type": "code",
   "execution_count": 1,
   "metadata": {},
   "outputs": [
    {
     "name": "stderr",
     "output_type": "stream",
     "text": [
      "/home/govert/anaconda3/envs/pytorch-par2vec/lib/python3.6/importlib/_bootstrap.py:219: RuntimeWarning: compiletime version 3.5 of module 'tensorflow.python.framework.fast_tensor_util' does not match runtime version 3.6\n",
      "  return f(*args, **kwds)\n"
     ]
    }
   ],
   "source": [
    "from graphvec_nons import GraphVec\n",
    "import numpy as np"
   ]
  },
  {
   "cell_type": "markdown",
   "metadata": {},
   "source": [
    "#### Corpus"
   ]
  },
  {
   "cell_type": "code",
   "execution_count": 2,
   "metadata": {
    "collapsed": true
   },
   "outputs": [],
   "source": [
    "vocab_size = 10000\n",
    "tokenized = np.random.randint(0, vocab_size, (10, 2000))\n",
    "corpus = {'tokenized': tokenized}"
   ]
  },
  {
   "cell_type": "code",
   "execution_count": 3,
   "metadata": {},
   "outputs": [
    {
     "name": "stdout",
     "output_type": "stream",
     "text": [
      "ASDASADASD\n",
      "Tensor(\"Placeholder_9:0\", dtype=int32)\n",
      "10000\n"
     ]
    },
    {
     "name": "stderr",
     "output_type": "stream",
     "text": [
      "/home/govert/anaconda3/envs/pytorch-par2vec/lib/python3.6/site-packages/tensorflow/python/ops/gradients_impl.py:96: UserWarning: Converting sparse IndexedSlices to a dense Tensor of unknown shape. This may consume a large amount of memory.\n",
      "  \"Converting sparse IndexedSlices to a dense Tensor of unknown shape. \"\n"
     ]
    }
   ],
   "source": [
    "# Initiate model\n",
    "# tf.reset_default_graph()\n",
    "geo_vec_model = GraphVec(corpus=corpus, vocab_size=vocab_size)"
   ]
  },
  {
   "cell_type": "code",
   "execution_count": null,
   "metadata": {},
   "outputs": [
    {
     "name": "stdout",
     "output_type": "stream",
     "text": [
      "TRAINING\n",
      " iter: 100/10000 \t graph loss: 5.598899 \t aux loss: 296.158 \t avg_acc: 0.200\n",
      " iter: 200/10000 \t graph loss: 5.592777 \t aux loss: 184.224 \t avg_acc: 0.200\n",
      " iter: 300/10000 \t graph loss: 5.570441 \t aux loss: 101.723 \t avg_acc: 0.200\n",
      " iter: 400/10000 \t graph loss: 5.546365 \t aux loss: 101.262 \t avg_acc: 0.200\n",
      " iter: 500/10000 \t graph loss: 5.506567 \t aux loss: 31.467 \t avg_acc: 0.200\n"
     ]
    }
   ],
   "source": [
    "# Start training\n",
    "print(\"TRAINING\")\n",
    "geo_vec_model.train('./models', 10000, 100, save_name='test')"
   ]
  },
  {
   "cell_type": "code",
   "execution_count": null,
   "metadata": {
    "collapsed": true
   },
   "outputs": [],
   "source": []
  },
  {
   "cell_type": "code",
   "execution_count": null,
   "metadata": {
    "collapsed": true
   },
   "outputs": [],
   "source": []
  }
 ],
 "metadata": {
  "kernelspec": {
   "display_name": "Python [conda env:pytorch-par2vec]",
   "language": "python",
   "name": "conda-env-pytorch-par2vec-py"
  },
  "language_info": {
   "codemirror_mode": {
    "name": "ipython",
    "version": 3
   },
   "file_extension": ".py",
   "mimetype": "text/x-python",
   "name": "python",
   "nbconvert_exporter": "python",
   "pygments_lexer": "ipython3",
   "version": "3.6.3"
  }
 },
 "nbformat": 4,
 "nbformat_minor": 2
}
